{
 "cells": [
  {
   "cell_type": "markdown",
   "id": "beffe396-732d-4fa3-a38e-19a89af3c0e4",
   "metadata": {},
   "source": [
    "# Prints the results of the project"
   ]
  },
  {
   "cell_type": "code",
   "execution_count": 27,
   "id": "41ee3284-d288-4a84-97ac-637f3eabb4d4",
   "metadata": {},
   "outputs": [],
   "source": [
    "# Importing tings\n",
    "import matplotlib\n",
    "import matplotlib.pyplot as plt\n",
    "#import matplotlib.axes as axes\n",
    "import numpy as np\n"
   ]
  },
  {
   "cell_type": "code",
   "execution_count": 41,
   "id": "78e4db2f-6047-4f17-9533-ff083289a07b",
   "metadata": {},
   "outputs": [
    {
     "data": {
      "image/png": "[encoded data removed]",
      "text/plain": [
       "<Figure size 432x288 with 1 Axes>"
      ]
     },
     "metadata": {
      "needs_background": "light"
     },
     "output_type": "display_data"
    }
   ],
   "source": [
    "# Final results where the branch prediciton history = 128\n",
    "\n",
    "bps = (\"AT\", \"NT\", \"BT_FNT\", \"2_bit\", \"gshare\", \"perceptron\")\n",
    "\n",
    "benchmarks_loss = {\n",
    "    \"Train\"     : (0.4364, 0.6777, 0.4292, 0.3650, 0.3227, 0.3042),\n",
    "    \"541.leela\" : (0.6087, 0.6815, 0.6117, 0.5472, 0.3095, 0.5748),\n",
    "    \"525.x264\"  : (0.1983, 0.7157, 0.1623, 0.1234, 0.0777, 0.0670),\n",
    "    \"502.gcc\"   : (0.4826, 0.6969, 0.4487, 0.4136, 0.2824, 0.3031),\n",
    "    \"505.mcf\"   : (0.8003, 0.7031, 0.7865, 0.6774, 0.4342, 0.3326)\n",
    "}\n",
    "\n",
    "benchmarks_acc = {\n",
    "    \"Train\"     : (0.8273, 0.5940, 0.8283, 0.8670, 0.8826, 0.8945),\n",
    "    \"541.leela\" : (0.7290, 0.6146, 0.7290, 0.7647, 0.9083, 0.6571),\n",
    "    \"525.x264\"  : (0.9887, 0.3219, 0.9887, 0.9912, 0.9912, 0.9931),\n",
    "    \"502.gcc\"   : (0.8307, 0.4827, 0.8364, 0.8675, 0.9181, 0.8802),\n",
    "    \"505.mcf\"   : (0.5647, 0.4294, 0.5647, 0.7589, 0.8400, 0.9138)\n",
    "}\n",
    "\n",
    "#####################################################\n",
    "x = np.arange(len(bps))  # the label locations\n",
    "width = 0.25  # the width of the bars\n",
    "multiplier = 0\n",
    "\n",
    "fig, ax = plt.subplots()#layout='constrained')\n",
    "\n",
    "for attribute, measurement in benchmarks_loss.items():\n",
    "    offset = width * multiplier\n",
    "    rects = ax.bar(x + offset, measurement, width, label=attribute)\n",
    "    #plt.bar_label(rects, padding=3)\n",
    "    multiplier += 1\n",
    "\n",
    "\n",
    "# Add some text for labels, title and custom x-axis tick labels, etc.\n",
    "ax.set_ylabel('Length (mm)')\n",
    "ax.set_title('Penguin attributes by bps')\n",
    "#ax.set_xticks(x + width, bps)\n",
    "ax.legend(loc='upper left', ncol=3)\n",
    "ax.set_ylim(0, 1.3)\n",
    "\n",
    "plt.show()\n",
    "\n"
   ]
  },
  {
   "cell_type": "code",
   "execution_count": null,
   "id": "307718b0-59c3-48a5-9292-b8a8110f9c6a",
   "metadata": {},
   "outputs": [],
   "source": []
  }
 ],
 "metadata": {
  "kernelspec": {
   "display_name": "Python 3",
   "language": "python",
   "name": "python3"
  },
  "language_info": {
   "codemirror_mode": {
    "name": "ipython",
    "version": 3
   },
   "file_extension": ".py",
   "mimetype": "text/x-python",
   "name": "python",
   "nbconvert_exporter": "python",
   "pygments_lexer": "ipython3",
   "version": "3.6.8"
  }
 },
 "nbformat": 4,
 "nbformat_minor": 5
}
